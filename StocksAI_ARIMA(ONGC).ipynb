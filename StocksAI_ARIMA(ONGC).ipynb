{
  "nbformat": 4,
  "nbformat_minor": 0,
  "metadata": {
    "colab": {
      "name": "StocksAI.ipynb",
      "provenance": [],
      "collapsed_sections": [],
      "authorship_tag": "ABX9TyNDRI0yGoFjiYyxrbA/Oq+r",
      "include_colab_link": true
    },
    "kernelspec": {
      "name": "python3",
      "display_name": "Python 3"
    },
    "accelerator": "GPU"
  },
  "cells": [
    {
      "cell_type": "markdown",
      "metadata": {
        "id": "view-in-github",
        "colab_type": "text"
      },
      "source": [
        "<a href=\"https://colab.research.google.com/github/ANUNAYBAGGA/Stock-Reserch/blob/main/StocksAI_ARIMA(ONGC).ipynb\" target=\"_parent\"><img src=\"https://colab.research.google.com/assets/colab-badge.svg\" alt=\"Open In Colab\"/></a>"
      ]
    },
    {
      "cell_type": "code",
      "metadata": {
        "colab": {
          "base_uri": "https://localhost:8080/"
        },
        "id": "z0Tm7euQ2Kiz",
        "outputId": "f2a80814-6a67-46b6-a71b-637f16bc5bef"
      },
      "source": [
        "from google.colab import drive\n",
        "drive.mount('/content/gdrive')"
      ],
      "execution_count": 1,
      "outputs": [
        {
          "output_type": "stream",
          "text": [
            "Mounted at /content/gdrive\n"
          ],
          "name": "stdout"
        }
      ]
    },
    {
      "cell_type": "code",
      "metadata": {
        "id": "IoWXBOQ-2UaI",
        "colab": {
          "base_uri": "https://localhost:8080/"
        },
        "outputId": "7a6816ba-4984-428f-baf7-13c33ea55ab2"
      },
      "source": [
        "import pandas as pd\n",
        "import numpy as np\n",
        "import matplotlib.pyplot as plt\n",
        "from pandas.plotting import lag_plot\n",
        "from pandas import datetime\n",
        "from statsmodels.tsa.arima_model import ARIMA\n",
        "from sklearn.metrics import mean_squared_error"
      ],
      "execution_count": 8,
      "outputs": [
        {
          "output_type": "stream",
          "text": [
            "/usr/local/lib/python3.7/dist-packages/ipykernel_launcher.py:5: FutureWarning: The pandas.datetime class is deprecated and will be removed from pandas in a future version. Import from datetime module instead.\n",
            "  \"\"\"\n",
            "/usr/local/lib/python3.7/dist-packages/statsmodels/tools/_testing.py:19: FutureWarning: pandas.util.testing is deprecated. Use the functions in the public API at pandas.testing instead.\n",
            "  import pandas.util.testing as tm\n"
          ],
          "name": "stderr"
        }
      ]
    },
    {
      "cell_type": "code",
      "metadata": {
        "colab": {
          "base_uri": "https://localhost:8080/"
        },
        "id": "R8SONNre2cnf",
        "outputId": "3ec62626-b1f3-4a58-99e2-4ced45732f42"
      },
      "source": [
        "import os\n",
        "import glob\n",
        "\n",
        "path = 'gdrive/My Drive/stonks_DB'\n",
        "extension = 'csv'\n",
        "os.chdir(path) #Use for first time only\n",
        "result = glob.glob('*.{}'.format(extension))\n",
        "print(result)\n",
        "db = {}\n",
        "for i in result:\n",
        "  db[i[:-4]] = pd.read_csv(i)\n",
        "\n",
        "print(db.keys())\n",
        "stocks = list(db.keys())"
      ],
      "execution_count": 3,
      "outputs": [
        {
          "output_type": "stream",
          "text": [
            "['ONGC.csv', 'GAIL.csv', 'MARUTI.csv', 'HEROMOTOCO.csv', 'NESTLEIND.csv', 'ULTRACEMCO.csv', 'HINDUNILVR.csv', 'IOC.csv', 'LT.csv', 'RELIANCE.csv', 'BPCL.csv', 'ADANIPORTS.csv', 'BAJFINANCE.csv', 'M&M.csv', 'INFY.csv', 'TCS.csv', 'NTPC.csv', 'HDFC.csv', 'JSWSTEEL.csv', 'HCLTECH.csv', 'POWERGRID.csv', 'SBIN.csv', 'SHREECEM.csv', 'TATASTEEL.csv', 'HINDALCO.csv', 'UPL.csv']\n",
            "dict_keys(['ONGC', 'GAIL', 'MARUTI', 'HEROMOTOCO', 'NESTLEIND', 'ULTRACEMCO', 'HINDUNILVR', 'IOC', 'LT', 'RELIANCE', 'BPCL', 'ADANIPORTS', 'BAJFINANCE', 'M&M', 'INFY', 'TCS', 'NTPC', 'HDFC', 'JSWSTEEL', 'HCLTECH', 'POWERGRID', 'SBIN', 'SHREECEM', 'TATASTEEL', 'HINDALCO', 'UPL'])\n"
          ],
          "name": "stdout"
        }
      ]
    },
    {
      "cell_type": "code",
      "metadata": {
        "id": "3k-mvJEL2hB5"
      },
      "source": [
        "#Weekly\n",
        "def shift_returns(shift):\n",
        "  days_to_shift = shift\n",
        "  print(db.keys())\n",
        "  for i in db.keys():\n",
        "    shifted_db = db[i].shift(days_to_shift)\n",
        "    returns = shifted_db['adjusted_close'] - db[i]['adjusted_close']\n",
        "    log_returns = np.log(shifted_db['adjusted_close'] / db[i]['adjusted_close'])\n",
        "    db[i]['return'] = returns\n",
        "    db[i]['log_return'] = log_returns\n"
      ],
      "execution_count": 4,
      "outputs": []
    },
    {
      "cell_type": "markdown",
      "metadata": {
        "id": "DLBMFfOhUCAS"
      },
      "source": [
        "Momentum Based Trading System.\n",
        "Choose the top and bottom performers and then long and short them respectively."
      ]
    },
    {
      "cell_type": "code",
      "metadata": {
        "colab": {
          "base_uri": "https://localhost:8080/"
        },
        "id": "CTjmZNvHRPiB",
        "outputId": "90153891-76b2-4588-97cc-4c3ddb81828c"
      },
      "source": [
        "#Momentum Trading\n",
        "days = 690\n",
        "shift_returns(5)\n",
        "print(db['ONGC'].head(10))\n",
        "table = []\n",
        "for i in range(days):\n",
        "  signal = [0 for i in range(len(stocks))]\n",
        "  order = [db[x]['log_return'][i] for x in stocks]\n",
        "  order = pd.DataFrame(order).nlargest(3,0).index\n",
        "  for x in order:\n",
        "    signal[x] = 1\n",
        "  table.append(signal)\n",
        "table = pd.DataFrame(table , columns = stocks)\n",
        "#print(table)\n",
        "\n",
        "count = [table[stock].value_counts()[1] for stock in stocks]\n",
        "count = pd.DataFrame(count)\n",
        "long_momentum = [stocks[x] for x in count.nlargest(3,0).index]\n",
        "short_momentum = [stocks[x] for x in count.nsmallest(3,0).index]\n",
        "print(\"Score for each stock : \")\n",
        "#print(count)\n",
        "map = {}\n",
        "for i in range(len(stocks)):\n",
        "  map[count[0][i]] = map.get(count[0][i] , []) + [stocks[i]]\n",
        "tmp = list(map.keys())\n",
        "tmp.sort()\n",
        "tmp.reverse()\n",
        "map_movement = {}\n",
        "for i in tmp:\n",
        "  print(map[i] , \" : \", i/days)\n",
        "  map_movement[map[i][0]] = i/days\n",
        "\n",
        "print(\"Rising stocks, Top stocks to long are  : \" , long_momentum)\n",
        "print(\"Dropping stocks, Top stocks to short are : \", short_momentum)\n",
        "print(map_movement)"
      ],
      "execution_count": 5,
      "outputs": [
        {
          "output_type": "stream",
          "text": [
            "dict_keys(['ONGC', 'GAIL', 'MARUTI', 'HEROMOTOCO', 'NESTLEIND', 'ULTRACEMCO', 'HINDUNILVR', 'IOC', 'LT', 'RELIANCE', 'BPCL', 'ADANIPORTS', 'BAJFINANCE', 'M&M', 'INFY', 'TCS', 'NTPC', 'HDFC', 'JSWSTEEL', 'HCLTECH', 'POWERGRID', 'SBIN', 'SHREECEM', 'TATASTEEL', 'HINDALCO', 'UPL'])\n",
            "    timestamp    open    high  ...  split_coefficient  return  log_return\n",
            "0  2021-03-05  116.25  118.20  ...                1.0     NaN         NaN\n",
            "1  2021-03-04  113.80  117.05  ...                1.0     NaN         NaN\n",
            "2  2021-03-03  114.45  115.90  ...                1.0     NaN         NaN\n",
            "3  2021-03-02  116.00  116.65  ...                1.0     NaN         NaN\n",
            "4  2021-03-01  114.40  117.50  ...                1.0     NaN         NaN\n",
            "5  2021-02-26  115.90  118.40  ...                1.0    3.75    0.033182\n",
            "6  2021-02-25  115.60  120.50  ...                1.0   -6.30   -0.054394\n",
            "7  2021-02-24  113.80  115.50  ...                1.0    0.30    0.002636\n",
            "8  2021-02-23  109.25  114.35  ...                1.0    1.25    0.011079\n",
            "9  2021-02-22  105.55  108.60  ...                1.0   10.85    0.097190\n",
            "\n",
            "[10 rows x 11 columns]\n",
            "Score for each stock : \n",
            "['M&M']  :  0.2217391304347826\n",
            "['BAJFINANCE']  :  0.15942028985507245\n",
            "['UPL']  :  0.15507246376811595\n",
            "['BPCL']  :  0.15072463768115943\n",
            "['SBIN']  :  0.1463768115942029\n",
            "['INFY']  :  0.14492753623188406\n",
            "['RELIANCE']  :  0.1391304347826087\n",
            "['HINDALCO']  :  0.13768115942028986\n",
            "['TCS']  :  0.1318840579710145\n",
            "['TATASTEEL']  :  0.1289855072463768\n",
            "['ADANIPORTS', 'JSWSTEEL']  :  0.11304347826086956\n",
            "['HCLTECH']  :  0.1072463768115942\n",
            "['POWERGRID']  :  0.10579710144927536\n",
            "['ONGC']  :  0.10289855072463767\n",
            "['HEROMOTOCO']  :  0.10144927536231885\n",
            "['GAIL']  :  0.09710144927536232\n",
            "['SHREECEM']  :  0.09420289855072464\n",
            "['NESTLEIND']  :  0.09130434782608696\n",
            "['MARUTI']  :  0.08405797101449275\n",
            "['HINDUNILVR']  :  0.08260869565217391\n",
            "['IOC']  :  0.0782608695652174\n",
            "['HDFC']  :  0.07681159420289856\n",
            "['ULTRACEMCO', 'NTPC']  :  0.07246376811594203\n",
            "['LT']  :  0.06956521739130435\n",
            "Rising stocks, Top stocks to long are  :  ['M&M', 'BAJFINANCE', 'UPL']\n",
            "Dropping stocks, Top stocks to short are :  ['LT', 'ULTRACEMCO', 'NTPC']\n",
            "{'M&M': 0.2217391304347826, 'BAJFINANCE': 0.15942028985507245, 'UPL': 0.15507246376811595, 'BPCL': 0.15072463768115943, 'SBIN': 0.1463768115942029, 'INFY': 0.14492753623188406, 'RELIANCE': 0.1391304347826087, 'HINDALCO': 0.13768115942028986, 'TCS': 0.1318840579710145, 'TATASTEEL': 0.1289855072463768, 'ADANIPORTS': 0.11304347826086956, 'HCLTECH': 0.1072463768115942, 'POWERGRID': 0.10579710144927536, 'ONGC': 0.10289855072463767, 'HEROMOTOCO': 0.10144927536231885, 'GAIL': 0.09710144927536232, 'SHREECEM': 0.09420289855072464, 'NESTLEIND': 0.09130434782608696, 'MARUTI': 0.08405797101449275, 'HINDUNILVR': 0.08260869565217391, 'IOC': 0.0782608695652174, 'HDFC': 0.07681159420289856, 'ULTRACEMCO': 0.07246376811594203, 'LT': 0.06956521739130435}\n"
          ],
          "name": "stdout"
        }
      ]
    },
    {
      "cell_type": "markdown",
      "metadata": {
        "id": "jNvNo4rmUQ8E"
      },
      "source": [
        "Pair Trading: Look at 2 or more stocks with similar traits and use that data to predict movement"
      ]
    },
    {
      "cell_type": "code",
      "metadata": {
        "colab": {
          "base_uri": "https://localhost:8080/"
        },
        "id": "PIgajiWaT79j",
        "outputId": "8c9f9504-3c30-4f87-ea14-0819d34ce8ae"
      },
      "source": [
        "#Pair Trading using Cosine Similarity\n",
        "days = 690\n",
        "table = []\n",
        "i_count = 0\n",
        "j_count = 0\n",
        "for i in stocks:\n",
        "  table.append([])\n",
        "  j_count = 0\n",
        "  for j in stocks:\n",
        "      if i == j:\n",
        "        table[-1].append(1)\n",
        "        continue\n",
        "      if i_count > j_count:\n",
        "        table[-1].append(table[j_count][i_count])\n",
        "        continue\n",
        "      data1 = db[i]\n",
        "      data2 = db[j]\n",
        "      list_of_tuples = list(zip(data1[\"timestamp\"], data1[\"log_return\"][:days],data2[\"log_return\"][:days]))\n",
        "      \n",
        "      tmp = pd.DataFrame(list_of_tuples, columns = [\"time\" , i , j])\n",
        "      #tmp.plot(x = \"time\" , y = [i,j])\n",
        "      #print(tmp.head(10))\n",
        "      numerator = tmp[i] * tmp[j]\n",
        "      numerator = numerator.sum(skipna = True)\n",
        "      deno = ((tmp[i] ** 2 ).sum(skipna = True))**0.5 * ((tmp[j]**2).sum(skipna = True))**0.5\n",
        "      #print(\"NUMERATOR \" , deno)\n",
        "      #print(\"SIMILARITY INDEX OF \" , i , \" AND \", j , \" IS \" , numerator/deno)\n",
        "      table[-1].append(numerator/deno)\n",
        "      j_count+=1\n",
        "i_count = 0\n",
        "    \n",
        "print(\"SIMILARITY TABLE\")\n",
        "table = pd.DataFrame(table,columns = stocks,index=stocks)\n",
        "print(table)\n",
        "map_similarity = {}\n",
        "for i in stocks:\n",
        "  #print(table.nlargest(3,i))\n",
        "  same = list(table.nlargest(4,i).index[1:])\n",
        "  print(\"TOP 3 stocks like \" , i , \" are \",same)\n",
        "  mean = db[same[0]]['log_return'].copy()\n",
        "  for x in range(len(same)):\n",
        "    mean+=db[same[x]]['log_return']\n",
        "  mean/=3\n",
        "  print(\"score =  \" ,end = \"\")\n",
        "  print(mean[5] - db[i]['log_return'][5])\n",
        "  map_similarity[i] = mean[5] - db[i]['log_return'][5]\n",
        "print(map_similarity)\n",
        "  "
      ],
      "execution_count": 6,
      "outputs": [
        {
          "output_type": "stream",
          "text": [
            "SIMILARITY TABLE\n",
            "                ONGC      GAIL    MARUTI  ...  TATASTEEL  HINDALCO       UPL\n",
            "ONGC        1.000000  0.699631  0.319842  ...   0.581238  0.566895  0.354017\n",
            "GAIL        0.699631  1.000000  0.350993  ...   0.552170  0.585707  0.415210\n",
            "MARUTI      0.319842  0.350993  1.000000  ...   0.462458  0.488524  0.459683\n",
            "HEROMOTOCO  0.323408  0.365177  0.636690  ...   0.321251  0.416104  0.344550\n",
            "NESTLEIND   0.252852  0.293461  0.437543  ...   0.215924  0.280779  0.349026\n",
            "ULTRACEMCO  0.449507  0.447082  0.550035  ...   0.515186  0.555634  0.460081\n",
            "HINDUNILVR  0.276218  0.297187  0.424712  ...   0.242653  0.224925  0.272001\n",
            "IOC         0.636200  0.561949  0.400358  ...   0.482663  0.449186  0.358474\n",
            "LT          0.423787  0.460972  0.566122  ...   0.520816  0.599566  0.566311\n",
            "RELIANCE    0.383129  0.379808  0.377748  ...   0.300404  0.355480  0.433454\n",
            "BPCL        0.507724  0.501983  0.373870  ...   0.344879  0.408098  0.419716\n",
            "ADANIPORTS  0.436652  0.424931  0.517684  ...   0.447827  0.485798  0.522118\n",
            "BAJFINANCE  0.274526  0.347209  0.532599  ...   0.456250  0.455233  0.434634\n",
            "M&M         0.393773  0.380961  0.239063  ...   0.414375  0.352422  0.229202\n",
            "INFY        0.239390  0.282387  0.202967  ...   0.266921  0.351717  0.374069\n",
            "TCS         0.251394  0.299203  0.279222  ...   0.256588  0.259962  0.326416\n",
            "NTPC        0.508967  0.447105  0.401529  ...   0.455782  0.535914  0.470260\n",
            "HDFC        0.360683  0.386783  0.523872  ...   0.477183  0.534384  0.449708\n",
            "JSWSTEEL    0.472318  0.544542  0.555898  ...   0.710578  0.760425  0.542037\n",
            "HCLTECH     0.337080  0.403049  0.373042  ...   0.323477  0.412052  0.402798\n",
            "POWERGRID   0.475392  0.408501  0.279609  ...   0.406338  0.419215  0.315674\n",
            "SBIN        0.434239  0.448364  0.341237  ...   0.535025  0.525455  0.386467\n",
            "SHREECEM    0.343898  0.379421  0.521701  ...   0.501678  0.546611  0.402282\n",
            "TATASTEEL   0.581238  0.552170  0.462458  ...   1.000000  0.721126  0.365649\n",
            "HINDALCO    0.566895  0.585707  0.488524  ...   0.721126  1.000000  0.493271\n",
            "UPL         0.354017  0.415210  0.459683  ...   0.365649  0.493271  1.000000\n",
            "\n",
            "[26 rows x 26 columns]\n",
            "TOP 3 stocks like  ONGC  are  ['GAIL', 'IOC', 'TATASTEEL']\n",
            "score =  0.011629385036906456\n",
            "TOP 3 stocks like  GAIL  are  ['ONGC', 'HINDALCO', 'IOC']\n",
            "score =  -0.007443050059724312\n",
            "TOP 3 stocks like  MARUTI  are  ['HEROMOTOCO', 'LT', 'JSWSTEEL']\n",
            "score =  0.0074503080150086845\n",
            "TOP 3 stocks like  HEROMOTOCO  are  ['MARUTI', 'JSWSTEEL', 'ULTRACEMCO']\n",
            "score =  0.010027322289135776\n",
            "TOP 3 stocks like  NESTLEIND  are  ['HINDUNILVR', 'MARUTI', 'LT']\n",
            "score =  0.002894720490938446\n",
            "TOP 3 stocks like  ULTRACEMCO  are  ['SHREECEM', 'LT', 'ADANIPORTS']\n",
            "score =  -0.03495203251551117\n",
            "TOP 3 stocks like  HINDUNILVR  are  ['NESTLEIND', 'MARUTI', 'RELIANCE']\n",
            "score =  0.02779254435719631\n",
            "TOP 3 stocks like  IOC  are  ['BPCL', 'ONGC', 'GAIL']\n",
            "score =  0.006099582829962924\n",
            "TOP 3 stocks like  LT  are  ['SHREECEM', 'ULTRACEMCO', 'BAJFINANCE']\n",
            "score =  0.0670398436710886\n",
            "TOP 3 stocks like  RELIANCE  are  ['HCLTECH', 'BPCL', 'UPL']\n",
            "score =  0.004603209990716048\n",
            "TOP 3 stocks like  BPCL  are  ['IOC', 'ONGC', 'GAIL']\n",
            "score =  0.021236845779733924\n",
            "TOP 3 stocks like  ADANIPORTS  are  ['ULTRACEMCO', 'LT', 'UPL']\n",
            "score =  -0.010345950838184598\n",
            "TOP 3 stocks like  BAJFINANCE  are  ['HDFC', 'LT', 'SBIN']\n",
            "score =  -0.03810303721708529\n",
            "TOP 3 stocks like  M&M  are  ['TATASTEEL', 'ONGC', 'GAIL']\n",
            "score =  0.04649250223484356\n",
            "TOP 3 stocks like  INFY  are  ['HCLTECH', 'TCS', 'UPL']\n",
            "score =  0.0036611255503319895\n",
            "TOP 3 stocks like  TCS  are  ['HCLTECH', 'INFY', 'RELIANCE']\n",
            "score =  0.016691877852930075\n",
            "TOP 3 stocks like  NTPC  are  ['POWERGRID', 'LT', 'HINDALCO']\n",
            "score =  0.0038530076730405264\n",
            "TOP 3 stocks like  HDFC  are  ['BAJFINANCE', 'LT', 'SBIN']\n",
            "score =  0.02345986926805672\n",
            "TOP 3 stocks like  JSWSTEEL  are  ['HINDALCO', 'TATASTEEL', 'ULTRACEMCO']\n",
            "score =  0.010668791149627557\n",
            "TOP 3 stocks like  HCLTECH  are  ['TCS', 'INFY', 'RELIANCE']\n",
            "score =  0.021980689638377807\n",
            "TOP 3 stocks like  POWERGRID  are  ['NTPC', 'ONGC', 'LT']\n",
            "score =  0.00024615786532583214\n",
            "TOP 3 stocks like  SBIN  are  ['LT', 'HDFC', 'BAJFINANCE']\n",
            "score =  0.03974879616490269\n",
            "TOP 3 stocks like  SHREECEM  are  ['ULTRACEMCO', 'LT', 'HINDALCO']\n",
            "score =  0.023754235402533214\n",
            "TOP 3 stocks like  TATASTEEL  are  ['HINDALCO', 'JSWSTEEL', 'ONGC']\n",
            "score =  -0.01269013528640039\n",
            "TOP 3 stocks like  HINDALCO  are  ['JSWSTEEL', 'TATASTEEL', 'LT']\n",
            "score =  0.04183414316027581\n",
            "TOP 3 stocks like  UPL  are  ['LT', 'JSWSTEEL', 'ADANIPORTS']\n",
            "score =  0.0003631113222430926\n",
            "{'ONGC': 0.011629385036906456, 'GAIL': -0.007443050059724312, 'MARUTI': 0.0074503080150086845, 'HEROMOTOCO': 0.010027322289135776, 'NESTLEIND': 0.002894720490938446, 'ULTRACEMCO': -0.03495203251551117, 'HINDUNILVR': 0.02779254435719631, 'IOC': 0.006099582829962924, 'LT': 0.0670398436710886, 'RELIANCE': 0.004603209990716048, 'BPCL': 0.021236845779733924, 'ADANIPORTS': -0.010345950838184598, 'BAJFINANCE': -0.03810303721708529, 'M&M': 0.04649250223484356, 'INFY': 0.0036611255503319895, 'TCS': 0.016691877852930075, 'NTPC': 0.0038530076730405264, 'HDFC': 0.02345986926805672, 'JSWSTEEL': 0.010668791149627557, 'HCLTECH': 0.021980689638377807, 'POWERGRID': 0.00024615786532583214, 'SBIN': 0.03974879616490269, 'SHREECEM': 0.023754235402533214, 'TATASTEEL': -0.01269013528640039, 'HINDALCO': 0.04183414316027581, 'UPL': 0.0003631113222430926}\n"
          ],
          "name": "stdout"
        }
      ]
    },
    {
      "cell_type": "code",
      "metadata": {
        "id": "PpTWri-04C5l",
        "colab": {
          "base_uri": "https://localhost:8080/",
          "height": 346
        },
        "outputId": "77f4053a-c64a-467f-ad6d-ec11ce22506f"
      },
      "source": [
        "#Auto Regressive Integrated Moving Average (ARIMA)\n",
        "plt.figure()\n",
        "lag_plot(db['ONGC']['adjusted_close'], lag=3)\n",
        "plt.title('ONGC Stock - Autocorrelation plot with lag = 3')\n",
        "plt.show()\n",
        "\n",
        "\n",
        "train_data = db['ONGC'][0:int(len(db['ONGC']) * 0.7)]\n",
        "test_data = db['ONGC'][int(len(db['ONGC']) * 0.7) : ]\n",
        "training_data = train_data['adjusted_close'].values\n",
        "test_data = test_data['adjusted_close'].values\n",
        "history = [x for x in training_data]\n",
        "model_predictions = []\n",
        "N_test_observations = len(test_data)\n",
        "for time_point in range(N_test_observations):\n",
        "    model = ARIMA(history, order=(4,1,0))\n",
        "    model_fit = model.fit(disp=0)\n",
        "    output = model_fit.forecast()\n",
        "    yhat = output[0]\n",
        "    model_predictions.append(yhat)\n",
        "    true_test_value = test_data[time_point]\n",
        "    history.append(true_test_value)\n",
        "MSE_error = mean_squared_error(test_data, model_predictions)\n",
        "print('Testing Mean Squared Error is {}'.format(MSE_error))"
      ],
      "execution_count": 19,
      "outputs": [
        {
          "output_type": "display_data",
          "data": {
            "image/png": "[encoded data removed]",
            "text/plain": [
              "<Figure size 432x288 with 1 Axes>"
            ]
          },
          "metadata": {
            "tags": [],
            "needs_background": "light"
          }
        },
        {
          "output_type": "stream",
          "text": [
            "/usr/local/lib/python3.7/dist-packages/statsmodels/base/model.py:512: ConvergenceWarning: Maximum Likelihood optimization failed to converge. Check mle_retvals\n",
            "  \"Check mle_retvals\", ConvergenceWarning)\n"
          ],
          "name": "stderr"
        },
        {
          "output_type": "stream",
          "text": [
            "Testing Mean Squared Error is 5.277092717420633\n"
          ],
          "name": "stdout"
        }
      ]
    },
    {
      "cell_type": "code",
      "metadata": {
        "colab": {
          "base_uri": "https://localhost:8080/",
          "height": 278
        },
        "id": "3OLV2z2XSB-7",
        "outputId": "240677aa-d554-4665-f690-1b572cb257e7"
      },
      "source": [
        "test_set_range = db['ONGC'][int(len(db['ONGC'])*0.7):].index\n",
        "plt.plot(test_set_range, model_predictions, color='blue', marker='o', linestyle='dashed',label='Predicted Price')\n",
        "plt.plot(test_set_range, test_data, color='red', label='Actual Price')\n",
        "plt.title('ONGC Prices Prediction')\n",
        "plt.xlabel('Date')\n",
        "plt.ylabel('Prices')\n",
        "plt.xticks(np.arange(881,1259,500), db['ONGC'].timestamp[881:1259:500])\n",
        "plt.legend()\n",
        "plt.show()"
      ],
      "execution_count": 23,
      "outputs": [
        {
          "output_type": "display_data",
          "data": {
            "image/png": "[encoded data removed]",
            "text/plain": [
              "<Figure size 432x288 with 1 Axes>"
            ]
          },
          "metadata": {
            "tags": [],
            "needs_background": "light"
          }
        }
      ]
    },
    {
      "cell_type": "code",
      "metadata": {
        "id": "1hPjp6Er2wAy",
        "colab": {
          "base_uri": "https://localhost:8080/",
          "height": 128
        },
        "outputId": "75ce5019-7486-4c5d-93d8-370423080359"
      },
      "source": [
        "'''\n",
        "# BOLLINGER BANDS \n",
        "days = 365\n",
        "gap = days//10\n",
        "mean = []\n",
        "upar = []\n",
        "neeche = []\n",
        "for i in range(days):\n",
        "  low = i-gap\n",
        "  if low<0:\n",
        "    low = 0\n",
        "  mean.append(data[\"adjusted_close\"][low:i+gap].mean())\n",
        "  upar.append(mean[-1] + data[\"adjusted_close\"][low:i+5].std())\n",
        "  neeche.append(mean[-1] - data[\"adjusted_close\"][low:i+5].std())\n",
        "\n",
        "list_of_tuples = list(zip(data[\"timestamp\"][:days][::-1], data[\"adjusted_close\"][:days][::-1], mean[::-1], upar[::-1] , neeche[::-1]))  \n",
        "tmp = pd.DataFrame(list_of_tuples,columns=[\"time\",\"close\",\"mean\",'upar','neeche']  )\n",
        "tmp.plot(x = \"time\" , y = [\"close\",\"mean\",'upar','neeche'])\n",
        "\n",
        "#SIMILARITY / PAIR TRADING\n",
        "\n",
        "j = 'ONGC'\n",
        "days = 365\n",
        "for i in db.keys():\n",
        "    if i!=j:\n",
        "      data1 = db[i]\n",
        "      data2 = db[j]\n",
        "      list_of_tuples = list(zip(data1[\"timestamp\"][:days][::-1], data1[\"log_return\"][:days][::-1],data2[\"log_return\"][:days][::-1]))\n",
        "      \n",
        "      tmp = pd.DataFrame(list_of_tuples, columns = [\"time\" , i , j])\n",
        "      tmp.plot(x = \"time\" , y = [i,j])\n",
        "  "
      ],
      "execution_count": null,
      "outputs": [
        {
          "output_type": "error",
          "ename": "SyntaxError",
          "evalue": "ignored",
          "traceback": [
            "\u001b[0;36m  File \u001b[0;32m\"<ipython-input-133-026c9e6ba035>\"\u001b[0;36m, line \u001b[0;32m32\u001b[0m\n\u001b[0;31m    \u001b[0m\n\u001b[0m    ^\u001b[0m\n\u001b[0;31mSyntaxError\u001b[0m\u001b[0;31m:\u001b[0m EOF while scanning triple-quoted string literal\n"
          ]
        }
      ]
    },
    {
      "cell_type": "code",
      "metadata": {
        "id": "Tj2HX000tNIw"
      },
      "source": [
        ""
      ],
      "execution_count": null,
      "outputs": []
    }
  ]
}